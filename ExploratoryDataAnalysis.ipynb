{
 "cells": [
  {
   "cell_type": "markdown",
   "id": "07458816",
   "metadata": {},
   "source": [
    "# Exploratory Data Analysis\n",
    "\n",
    "### Exploratory data analysis (EDA) is used to analyze and investigate data sets and summarize their main characteristics, often employing data visualization methods. EDA is primarily used to see what data can reveal beyond the formal modeling or hypothesis testing task and provides a provides a better understanding of data set variables and the relationships between them.\n",
    "\n",
    "It is a good to understand the data first and try to gather as many insights from it. EDA is all about making sense of data in hand,before getting them dirty with it."
   ]
  },
  {
   "cell_type": "markdown",
   "id": "a8815ceb",
   "metadata": {},
   "source": [
    "So we will use the \"World Happiness Report\" as the dataset and perform Exploratory Data Analysis on it."
   ]
  },
  {
   "cell_type": "markdown",
   "id": "69ac02dd",
   "metadata": {},
   "source": [
    "#### First, we will import all the python libraries that are required for this, which include NumPy for numerical calculations and scientific computing, Pandas for handling data and Matplotlib and Seaborn for visualization."
   ]
  },
  {
   "cell_type": "code",
   "execution_count": 3,
   "id": "9c587dc9",
   "metadata": {},
   "outputs": [
    {
     "name": "stdout",
     "output_type": "stream",
     "text": [
      "Defaulting to user installation because normal site-packages is not writeable\n",
      "Requirement already satisfied: seaborn in /home/phineasnthiga/.local/lib/python3.10/site-packages (0.11.2)\n",
      "Requirement already satisfied: pandas>=0.23 in /home/phineasnthiga/.local/lib/python3.10/site-packages (from seaborn) (1.4.3)\n",
      "Requirement already satisfied: matplotlib>=2.2 in /usr/lib/python3/dist-packages (from seaborn) (3.5.1)\n",
      "Requirement already satisfied: scipy>=1.0 in /home/phineasnthiga/.local/lib/python3.10/site-packages (from seaborn) (1.8.1)\n",
      "Requirement already satisfied: numpy>=1.15 in /home/phineasnthiga/.local/lib/python3.10/site-packages (from seaborn) (1.23.0)\n",
      "Requirement already satisfied: python-dateutil>=2.8.1 in /home/phineasnthiga/.local/lib/python3.10/site-packages (from pandas>=0.23->seaborn) (2.8.2)\n",
      "Requirement already satisfied: pytz>=2020.1 in /usr/lib/python3/dist-packages (from pandas>=0.23->seaborn) (2022.1)\n",
      "Requirement already satisfied: six>=1.5 in /home/phineasnthiga/.local/lib/python3.10/site-packages (from python-dateutil>=2.8.1->pandas>=0.23->seaborn) (1.16.0)\n"
     ]
    }
   ],
   "source": [
    "!pip install seaborn"
   ]
  },
  {
   "cell_type": "code",
   "execution_count": 2,
   "id": "b0b72285",
   "metadata": {},
   "outputs": [],
   "source": [
    "import numpy as np\n",
    "import pandas as pd\n",
    "import matplotlib.pyplot as plt\n",
    "import seaborn as sns\n",
    "from pylab import rcParams\n",
    "rcParams['figure.figsize'] = (12,6)\n",
    "sns.set()"
   ]
  },
  {
   "cell_type": "markdown",
   "id": "337beac5",
   "metadata": {},
   "source": [
    "#### Read the data using pandas"
   ]
  },
  {
   "cell_type": "code",
   "execution_count": 4,
   "id": "eff98cf7",
   "metadata": {},
   "outputs": [],
   "source": [
    "happinessData = pd.read_csv(\"files/Happiness.csv\")"
   ]
  },
  {
   "cell_type": "markdown",
   "id": "ae883862",
   "metadata": {},
   "source": [
    "#### Check the first few rows of the dataset"
   ]
  },
  {
   "cell_type": "code",
   "execution_count": 3,
   "id": "03daf107",
   "metadata": {},
   "outputs": [
    {
     "data": {
      "text/html": [
       "<div>\n",
       "<style scoped>\n",
       "    .dataframe tbody tr th:only-of-type {\n",
       "        vertical-align: middle;\n",
       "    }\n",
       "\n",
       "    .dataframe tbody tr th {\n",
       "        vertical-align: top;\n",
       "    }\n",
       "\n",
       "    .dataframe thead th {\n",
       "        text-align: right;\n",
       "    }\n",
       "</style>\n",
       "<table border=\"1\" class=\"dataframe\">\n",
       "  <thead>\n",
       "    <tr style=\"text-align: right;\">\n",
       "      <th></th>\n",
       "      <th>Country</th>\n",
       "      <th>Region</th>\n",
       "      <th>Happiness Rank</th>\n",
       "      <th>Happiness Score</th>\n",
       "      <th>Standard Error</th>\n",
       "      <th>Economy (GDP per Capita)</th>\n",
       "      <th>Family</th>\n",
       "      <th>Health (Life Expectancy)</th>\n",
       "      <th>Freedom</th>\n",
       "      <th>Trust (Government Corruption)</th>\n",
       "      <th>Generosity</th>\n",
       "      <th>Dystopia Residual</th>\n",
       "    </tr>\n",
       "  </thead>\n",
       "  <tbody>\n",
       "    <tr>\n",
       "      <th>0</th>\n",
       "      <td>Switzerland</td>\n",
       "      <td>Western Europe</td>\n",
       "      <td>1.0</td>\n",
       "      <td>7.587</td>\n",
       "      <td>0.03411</td>\n",
       "      <td>1.39651</td>\n",
       "      <td>1.34951</td>\n",
       "      <td>0.94143</td>\n",
       "      <td>0.66557</td>\n",
       "      <td>0.41978</td>\n",
       "      <td>0.29678</td>\n",
       "      <td>2.51738</td>\n",
       "    </tr>\n",
       "    <tr>\n",
       "      <th>1</th>\n",
       "      <td>Iceland</td>\n",
       "      <td>Western Europe</td>\n",
       "      <td>2.0</td>\n",
       "      <td>7.561</td>\n",
       "      <td>0.04884</td>\n",
       "      <td>1.30232</td>\n",
       "      <td>1.40223</td>\n",
       "      <td>0.94784</td>\n",
       "      <td>0.62877</td>\n",
       "      <td>0.14145</td>\n",
       "      <td>0.43630</td>\n",
       "      <td>2.70201</td>\n",
       "    </tr>\n",
       "    <tr>\n",
       "      <th>2</th>\n",
       "      <td>Denmark</td>\n",
       "      <td>Western Europe</td>\n",
       "      <td>3.0</td>\n",
       "      <td>7.527</td>\n",
       "      <td>0.03328</td>\n",
       "      <td>1.32548</td>\n",
       "      <td>1.36058</td>\n",
       "      <td>0.87464</td>\n",
       "      <td>0.64938</td>\n",
       "      <td>0.48357</td>\n",
       "      <td>0.34139</td>\n",
       "      <td>2.49204</td>\n",
       "    </tr>\n",
       "    <tr>\n",
       "      <th>3</th>\n",
       "      <td>Norway</td>\n",
       "      <td>Western Europe</td>\n",
       "      <td>4.0</td>\n",
       "      <td>7.522</td>\n",
       "      <td>0.03880</td>\n",
       "      <td>1.45900</td>\n",
       "      <td>1.33095</td>\n",
       "      <td>0.88521</td>\n",
       "      <td>0.66973</td>\n",
       "      <td>0.36503</td>\n",
       "      <td>0.34699</td>\n",
       "      <td>2.46531</td>\n",
       "    </tr>\n",
       "    <tr>\n",
       "      <th>4</th>\n",
       "      <td>Canada</td>\n",
       "      <td>North America</td>\n",
       "      <td>5.0</td>\n",
       "      <td>7.427</td>\n",
       "      <td>0.03553</td>\n",
       "      <td>1.32629</td>\n",
       "      <td>1.32261</td>\n",
       "      <td>0.90563</td>\n",
       "      <td>0.63297</td>\n",
       "      <td>0.32957</td>\n",
       "      <td>0.45811</td>\n",
       "      <td>2.45176</td>\n",
       "    </tr>\n",
       "  </tbody>\n",
       "</table>\n",
       "</div>"
      ],
      "text/plain": [
       "       Country          Region  Happiness Rank  Happiness Score  \\\n",
       "0  Switzerland  Western Europe             1.0            7.587   \n",
       "1      Iceland  Western Europe             2.0            7.561   \n",
       "2      Denmark  Western Europe             3.0            7.527   \n",
       "3       Norway  Western Europe             4.0            7.522   \n",
       "4       Canada   North America             5.0            7.427   \n",
       "\n",
       "   Standard Error  Economy (GDP per Capita)   Family  \\\n",
       "0         0.03411                   1.39651  1.34951   \n",
       "1         0.04884                   1.30232  1.40223   \n",
       "2         0.03328                   1.32548  1.36058   \n",
       "3         0.03880                   1.45900  1.33095   \n",
       "4         0.03553                   1.32629  1.32261   \n",
       "\n",
       "   Health (Life Expectancy)  Freedom  Trust (Government Corruption)  \\\n",
       "0                   0.94143  0.66557                        0.41978   \n",
       "1                   0.94784  0.62877                        0.14145   \n",
       "2                   0.87464  0.64938                        0.48357   \n",
       "3                   0.88521  0.66973                        0.36503   \n",
       "4                   0.90563  0.63297                        0.32957   \n",
       "\n",
       "   Generosity  Dystopia Residual  \n",
       "0     0.29678            2.51738  \n",
       "1     0.43630            2.70201  \n",
       "2     0.34139            2.49204  \n",
       "3     0.34699            2.46531  \n",
       "4     0.45811            2.45176  "
      ]
     },
     "execution_count": 3,
     "metadata": {},
     "output_type": "execute_result"
    }
   ],
   "source": [
    "happinessData.head()"
   ]
  },
  {
   "cell_type": "markdown",
   "id": "f0b67be9",
   "metadata": {},
   "source": [
    "#### Using shape, we can observe that our dataset has 158 rows and 12 columns"
   ]
  },
  {
   "cell_type": "code",
   "execution_count": 4,
   "id": "92d9d09e",
   "metadata": {},
   "outputs": [
    {
     "data": {
      "text/plain": [
       "(158, 12)"
      ]
     },
     "execution_count": 4,
     "metadata": {},
     "output_type": "execute_result"
    }
   ],
   "source": [
    "happinessData.shape"
   ]
  },
  {
   "cell_type": "markdown",
   "id": "f030a72a",
   "metadata": {},
   "source": [
    "#### info() method shows some of the characteristics of the data such as, Column Name, No. of non-null values of our columns, Dtype of the data and Memory Usage. \n",
    "\n",
    "#### From this we can observe, that the data which we have doesn't have any missing values. We are very lucky in this case, but in real life scenarios, the data usually has missing values which we need to handle for our model to work accurately."
   ]
  },
  {
   "cell_type": "code",
   "execution_count": 5,
   "id": "ea12de2b",
   "metadata": {
    "scrolled": true
   },
   "outputs": [
    {
     "name": "stdout",
     "output_type": "stream",
     "text": [
      "<class 'pandas.core.frame.DataFrame'>\n",
      "RangeIndex: 169 entries, 0 to 168\n",
      "Data columns (total 12 columns):\n",
      " #   Column                         Non-Null Count  Dtype  \n",
      "---  ------                         --------------  -----  \n",
      " 0   Country                        169 non-null    object \n",
      " 1   Region                         169 non-null    object \n",
      " 2   Happiness Rank                 167 non-null    float64\n",
      " 3   Happiness Score                169 non-null    float64\n",
      " 4   Standard Error                 169 non-null    float64\n",
      " 5   Economy (GDP per Capita)       169 non-null    float64\n",
      " 6   Family                         169 non-null    float64\n",
      " 7   Health (Life Expectancy)       169 non-null    float64\n",
      " 8   Freedom                        169 non-null    float64\n",
      " 9   Trust (Government Corruption)  169 non-null    float64\n",
      " 10  Generosity                     169 non-null    float64\n",
      " 11  Dystopia Residual              168 non-null    float64\n",
      "dtypes: float64(10), object(2)\n",
      "memory usage: 16.0+ KB\n"
     ]
    }
   ],
   "source": [
    "happinessData.info()"
   ]
  },
  {
   "cell_type": "markdown",
   "id": "d98abd0f",
   "metadata": {},
   "source": [
    "#### describe() method shows basic statistical characteristics of each numerical feature (int64 and float64 types): number of non-missing values, mean, standard deviation, range, median, 0.25, 0.50, 0.75 quartiles."
   ]
  },
  {
   "cell_type": "code",
   "execution_count": 6,
   "id": "01e20552",
   "metadata": {},
   "outputs": [
    {
     "data": {
      "text/html": [
       "<div>\n",
       "<style scoped>\n",
       "    .dataframe tbody tr th:only-of-type {\n",
       "        vertical-align: middle;\n",
       "    }\n",
       "\n",
       "    .dataframe tbody tr th {\n",
       "        vertical-align: top;\n",
       "    }\n",
       "\n",
       "    .dataframe thead th {\n",
       "        text-align: right;\n",
       "    }\n",
       "</style>\n",
       "<table border=\"1\" class=\"dataframe\">\n",
       "  <thead>\n",
       "    <tr style=\"text-align: right;\">\n",
       "      <th></th>\n",
       "      <th>Happiness Rank</th>\n",
       "      <th>Happiness Score</th>\n",
       "      <th>Standard Error</th>\n",
       "      <th>Economy (GDP per Capita)</th>\n",
       "      <th>Family</th>\n",
       "      <th>Health (Life Expectancy)</th>\n",
       "      <th>Freedom</th>\n",
       "      <th>Trust (Government Corruption)</th>\n",
       "      <th>Generosity</th>\n",
       "      <th>Dystopia Residual</th>\n",
       "    </tr>\n",
       "  </thead>\n",
       "  <tbody>\n",
       "    <tr>\n",
       "      <th>count</th>\n",
       "      <td>167.000000</td>\n",
       "      <td>169.000000</td>\n",
       "      <td>169.000000</td>\n",
       "      <td>169.000000</td>\n",
       "      <td>169.000000</td>\n",
       "      <td>169.000000</td>\n",
       "      <td>169.000000</td>\n",
       "      <td>169.000000</td>\n",
       "      <td>169.000000</td>\n",
       "      <td>168.000000</td>\n",
       "    </tr>\n",
       "    <tr>\n",
       "      <th>mean</th>\n",
       "      <td>84.844311</td>\n",
       "      <td>5.209732</td>\n",
       "      <td>0.055013</td>\n",
       "      <td>0.809510</td>\n",
       "      <td>0.955838</td>\n",
       "      <td>0.605009</td>\n",
       "      <td>0.421543</td>\n",
       "      <td>0.144791</td>\n",
       "      <td>0.249538</td>\n",
       "      <td>2.065705</td>\n",
       "    </tr>\n",
       "    <tr>\n",
       "      <th>std</th>\n",
       "      <td>47.834047</td>\n",
       "      <td>1.274542</td>\n",
       "      <td>0.092517</td>\n",
       "      <td>0.417286</td>\n",
       "      <td>0.298439</td>\n",
       "      <td>0.255828</td>\n",
       "      <td>0.153859</td>\n",
       "      <td>0.120739</td>\n",
       "      <td>0.191139</td>\n",
       "      <td>0.573774</td>\n",
       "    </tr>\n",
       "    <tr>\n",
       "      <th>min</th>\n",
       "      <td>1.000000</td>\n",
       "      <td>0.034680</td>\n",
       "      <td>0.018480</td>\n",
       "      <td>0.000000</td>\n",
       "      <td>0.000000</td>\n",
       "      <td>0.000000</td>\n",
       "      <td>0.000000</td>\n",
       "      <td>0.000000</td>\n",
       "      <td>0.000000</td>\n",
       "      <td>0.328580</td>\n",
       "    </tr>\n",
       "    <tr>\n",
       "      <th>25%</th>\n",
       "      <td>44.500000</td>\n",
       "      <td>4.332000</td>\n",
       "      <td>0.037260</td>\n",
       "      <td>0.454070</td>\n",
       "      <td>0.792730</td>\n",
       "      <td>0.400640</td>\n",
       "      <td>0.319140</td>\n",
       "      <td>0.063240</td>\n",
       "      <td>0.162280</td>\n",
       "      <td>1.737985</td>\n",
       "    </tr>\n",
       "    <tr>\n",
       "      <th>50%</th>\n",
       "      <td>86.000000</td>\n",
       "      <td>5.124000</td>\n",
       "      <td>0.043940</td>\n",
       "      <td>0.881130</td>\n",
       "      <td>1.009640</td>\n",
       "      <td>0.673900</td>\n",
       "      <td>0.430540</td>\n",
       "      <td>0.107310</td>\n",
       "      <td>0.217470</td>\n",
       "      <td>2.034510</td>\n",
       "    </tr>\n",
       "    <tr>\n",
       "      <th>75%</th>\n",
       "      <td>127.500000</td>\n",
       "      <td>6.003000</td>\n",
       "      <td>0.052350</td>\n",
       "      <td>1.147230</td>\n",
       "      <td>1.202150</td>\n",
       "      <td>0.790810</td>\n",
       "      <td>0.542520</td>\n",
       "      <td>0.180600</td>\n",
       "      <td>0.311050</td>\n",
       "      <td>2.452253</td>\n",
       "    </tr>\n",
       "    <tr>\n",
       "      <th>max</th>\n",
       "      <td>158.000000</td>\n",
       "      <td>7.587000</td>\n",
       "      <td>1.230110</td>\n",
       "      <td>1.690420</td>\n",
       "      <td>1.402230</td>\n",
       "      <td>1.025250</td>\n",
       "      <td>0.669730</td>\n",
       "      <td>0.551910</td>\n",
       "      <td>2.123670</td>\n",
       "      <td>3.602140</td>\n",
       "    </tr>\n",
       "  </tbody>\n",
       "</table>\n",
       "</div>"
      ],
      "text/plain": [
       "       Happiness Rank  Happiness Score  Standard Error  \\\n",
       "count      167.000000       169.000000      169.000000   \n",
       "mean        84.844311         5.209732        0.055013   \n",
       "std         47.834047         1.274542        0.092517   \n",
       "min          1.000000         0.034680        0.018480   \n",
       "25%         44.500000         4.332000        0.037260   \n",
       "50%         86.000000         5.124000        0.043940   \n",
       "75%        127.500000         6.003000        0.052350   \n",
       "max        158.000000         7.587000        1.230110   \n",
       "\n",
       "       Economy (GDP per Capita)      Family  Health (Life Expectancy)  \\\n",
       "count                169.000000  169.000000                169.000000   \n",
       "mean                   0.809510    0.955838                  0.605009   \n",
       "std                    0.417286    0.298439                  0.255828   \n",
       "min                    0.000000    0.000000                  0.000000   \n",
       "25%                    0.454070    0.792730                  0.400640   \n",
       "50%                    0.881130    1.009640                  0.673900   \n",
       "75%                    1.147230    1.202150                  0.790810   \n",
       "max                    1.690420    1.402230                  1.025250   \n",
       "\n",
       "          Freedom  Trust (Government Corruption)  Generosity  \\\n",
       "count  169.000000                     169.000000  169.000000   \n",
       "mean     0.421543                       0.144791    0.249538   \n",
       "std      0.153859                       0.120739    0.191139   \n",
       "min      0.000000                       0.000000    0.000000   \n",
       "25%      0.319140                       0.063240    0.162280   \n",
       "50%      0.430540                       0.107310    0.217470   \n",
       "75%      0.542520                       0.180600    0.311050   \n",
       "max      0.669730                       0.551910    2.123670   \n",
       "\n",
       "       Dystopia Residual  \n",
       "count         168.000000  \n",
       "mean            2.065705  \n",
       "std             0.573774  \n",
       "min             0.328580  \n",
       "25%             1.737985  \n",
       "50%             2.034510  \n",
       "75%             2.452253  \n",
       "max             3.602140  "
      ]
     },
     "execution_count": 6,
     "metadata": {},
     "output_type": "execute_result"
    }
   ],
   "source": [
    "happinessData.describe()"
   ]
  },
  {
   "cell_type": "code",
   "execution_count": null,
   "id": "1da39163",
   "metadata": {},
   "outputs": [],
   "source": []
  },
  {
   "cell_type": "markdown",
   "id": "ebc01d94",
   "metadata": {},
   "source": [
    "#### happinessData.corr() is used to find the pairwise correlation of all columns in the dataframe. Any na values are automatically excluded. For any non-numeric data type columns in the dataframe it is ignored.\n",
    "\n",
    "#### The resulting coefficient is a value between -1 and 1 inclusive, where:\n",
    "###### 1: Total positive linear correlation.\n",
    "###### 0: No linear correlation, the two variables most likely do not affect each other.\n",
    "###### -1: Total negative linear correlation.\n",
    "###### Pearson Correlation is the default method of the function \"corr\".\n",
    "#### We create a heatmap using Seaborn to visualise the correlation."
   ]
  },
  {
   "cell_type": "code",
   "execution_count": 7,
   "id": "71842d80",
   "metadata": {},
   "outputs": [
    {
     "data": {
      "text/plain": [
       "<AxesSubplot:>"
      ]
     },
     "execution_count": 7,
     "metadata": {},
     "output_type": "execute_result"
    },
    {
     "data": {
      "image/png": "[encoded data removed]",
      "text/plain": [
       "<Figure size 864x432 with 2 Axes>"
      ]
     },
     "metadata": {},
     "output_type": "display_data"
    }
   ],
   "source": [
    "sns.heatmap(happinessData.corr(),annot=True,cmap='RdYlGn')"
   ]
  },
  {
   "cell_type": "markdown",
   "id": "c1f799b8",
   "metadata": {},
   "source": [
    "#### As we can observe from the above heatmap of correlations that, there is a high correlation between\n",
    "##### Happiness Score - Economy (GDP per Capita) = 0.78\n",
    "##### Happiness Score - Family = 0.74\n",
    "##### Happiness Score - Health (Life Expectancy) = 0.72\n",
    "##### Economy (GDP per Capita) - Health (Life Expectancy) = 0.82"
   ]
  },
  {
   "cell_type": "markdown",
   "id": "30d88a17",
   "metadata": {},
   "source": [
    "#### Now,using Seaborn, we visualize the relation between Economy (GDP per Capita) and Happiness Score by using a regression plot. And as we can see that, as Economy increases, the Happiness Score increases as well denoting a positive relation."
   ]
  },
  {
   "cell_type": "code",
   "execution_count": 9,
   "id": "b638790a",
   "metadata": {},
   "outputs": [
    {
     "data": {
      "text/plain": [
       "<AxesSubplot:xlabel='Economy (GDP per Capita)', ylabel='Freedom'>"
      ]
     },
     "execution_count": 9,
     "metadata": {},
     "output_type": "execute_result"
    },
    {
     "data": {
      "image/png": "[encoded data removed]",
      "text/plain": [
       "<Figure size 864x432 with 1 Axes>"
      ]
     },
     "metadata": {},
     "output_type": "display_data"
    }
   ],
   "source": [
    "sns.regplot(x='Economy (GDP per Capita)',y='Freedom',data=happinessData)"
   ]
  },
  {
   "cell_type": "markdown",
   "id": "eb9d17a7",
   "metadata": {},
   "source": [
    "#### Now,using Seaborn, we visualize the relation between Family and Happiness Score by using a regression plot."
   ]
  },
  {
   "cell_type": "code",
   "execution_count": 9,
   "id": "0d2ac721",
   "metadata": {},
   "outputs": [
    {
     "data": {
      "text/plain": [
       "<AxesSubplot:xlabel='Family', ylabel='Happiness Score'>"
      ]
     },
     "execution_count": 9,
     "metadata": {},
     "output_type": "execute_result"
    },
    {
     "data": {
      "image/png": "[encoded data removed]",
      "text/plain": [
       "<Figure size 864x432 with 1 Axes>"
      ]
     },
     "metadata": {},
     "output_type": "display_data"
    }
   ],
   "source": [
    "sns.regplot(x='Family',y='Happiness Score',data=happinessData)"
   ]
  },
  {
   "cell_type": "markdown",
   "id": "7d2c09ca",
   "metadata": {},
   "source": [
    "#### Now,using Seaborn, we visualize the relation between Health (Life Expectancy) and Happiness Score by using a regression plot. And as we can see that, as Happiness is dependent on health,i.e. Good Health is equal to More Happiness."
   ]
  },
  {
   "cell_type": "code",
   "execution_count": 10,
   "id": "2a983441",
   "metadata": {},
   "outputs": [
    {
     "data": {
      "text/plain": [
       "<AxesSubplot:xlabel='Health (Life Expectancy)', ylabel='Happiness Score'>"
      ]
     },
     "execution_count": 10,
     "metadata": {},
     "output_type": "execute_result"
    },
    {
     "data": {
      "image/png": "[encoded data removed]",
      "text/plain": [
       "<Figure size 864x432 with 1 Axes>"
      ]
     },
     "metadata": {},
     "output_type": "display_data"
    }
   ],
   "source": [
    "sns.regplot(x='Health (Life Expectancy)',y='Happiness Score',data=happinessData)"
   ]
  },
  {
   "cell_type": "markdown",
   "id": "36b0dce8",
   "metadata": {},
   "source": [
    "#### Now,using Seaborn, we visualize the relation between Freedom and Happiness Score by using a regression plot. And as we can see that, as the correlation is less between these two parameters so the graph is more scattered and the dependency is less between the two."
   ]
  },
  {
   "cell_type": "code",
   "execution_count": 11,
   "id": "e53c6817",
   "metadata": {},
   "outputs": [
    {
     "data": {
      "text/plain": [
       "<AxesSubplot:xlabel='Freedom', ylabel='Happiness Score'>"
      ]
     },
     "execution_count": 11,
     "metadata": {},
     "output_type": "execute_result"
    },
    {
     "data": {
      "image/png": "[encoded data removed]",
      "text/plain": [
       "<Figure size 864x432 with 1 Axes>"
      ]
     },
     "metadata": {},
     "output_type": "display_data"
    }
   ],
   "source": [
    "sns.regplot(x='Freedom',y='Happiness Score',data=happinessData)"
   ]
  },
  {
   "cell_type": "markdown",
   "id": "53781d78",
   "metadata": {},
   "source": [
    "#### Now,using Seaborn, we visualize the relation between Economy (GDP per Capita) and Health (Life Expectancy) by using a regression plot."
   ]
  },
  {
   "cell_type": "code",
   "execution_count": 12,
   "id": "a56eec70",
   "metadata": {},
   "outputs": [
    {
     "data": {
      "text/plain": [
       "<AxesSubplot:xlabel='Economy (GDP per Capita)', ylabel='Health (Life Expectancy)'>"
      ]
     },
     "execution_count": 12,
     "metadata": {},
     "output_type": "execute_result"
    },
    {
     "data": {
      "image/png": "[encoded data removed]",
      "text/plain": [
       "<Figure size 864x432 with 1 Axes>"
      ]
     },
     "metadata": {},
     "output_type": "display_data"
    }
   ],
   "source": [
    "sns.regplot(x='Economy (GDP per Capita)',y='Health (Life Expectancy)',data=happinessData)"
   ]
  },
  {
   "cell_type": "code",
   "execution_count": 59,
   "id": "251a4cee",
   "metadata": {},
   "outputs": [],
   "source": [
    "happinessData = pd.read_csv(\"files/Happiness.csv\")"
   ]
  },
  {
   "cell_type": "code",
   "execution_count": 10,
   "id": "5c7c841c",
   "metadata": {},
   "outputs": [
    {
     "data": {
      "text/plain": [
       "Country                          0\n",
       "Region                           0\n",
       "Happiness Rank                   2\n",
       "Happiness Score                  0\n",
       "Standard Error                   0\n",
       "Economy (GDP per Capita)         0\n",
       "Family                           0\n",
       "Health (Life Expectancy)         0\n",
       "Freedom                          0\n",
       "Trust (Government Corruption)    0\n",
       "Generosity                       0\n",
       "Dystopia Residual                1\n",
       "dtype: int64"
      ]
     },
     "execution_count": 10,
     "metadata": {},
     "output_type": "execute_result"
    }
   ],
   "source": [
    "happinessData.isnull().sum()"
   ]
  },
  {
   "cell_type": "code",
   "execution_count": 29,
   "id": "b6d97d33",
   "metadata": {},
   "outputs": [],
   "source": [
    "standard_error = happinessData['Standard Error'].mean()\n",
    "hapinness_rank = happinessData['Happiness Rank'].median()\n",
    "Dystopia_Residual = happinessData['Dystopia Residual'].median()"
   ]
  },
  {
   "cell_type": "code",
   "execution_count": 30,
   "id": "28a174aa",
   "metadata": {},
   "outputs": [
    {
     "data": {
      "text/plain": [
       "80.5"
      ]
     },
     "execution_count": 30,
     "metadata": {},
     "output_type": "execute_result"
    }
   ],
   "source": [
    "standard_error\n",
    "hapinness_rank"
   ]
  },
  {
   "cell_type": "code",
   "execution_count": 31,
   "id": "023783c0",
   "metadata": {},
   "outputs": [],
   "source": [
    "happinessData['Standard Error'].replace(np.nan,standard_error, inplace=True)\n",
    "happinessData['Happiness Rank'].replace(np.nan,hapinness_rank, inplace=True)\n",
    "happinessData['Dystopia Residual'].replace(np.nan,Dystopia_Residual, inplace=True)"
   ]
  },
  {
   "cell_type": "code",
   "execution_count": 32,
   "id": "9164b014",
   "metadata": {},
   "outputs": [
    {
     "data": {
      "text/plain": [
       "Country                          0\n",
       "Region                           0\n",
       "Happiness Rank                   0\n",
       "Happiness Score                  0\n",
       "Standard Error                   0\n",
       "Economy (GDP per Capita)         0\n",
       "Family                           0\n",
       "Health (Life Expectancy)         0\n",
       "Freedom                          0\n",
       "Trust (Government Corruption)    0\n",
       "Generosity                       0\n",
       "Dystopia Residual                0\n",
       "dtype: int64"
      ]
     },
     "execution_count": 32,
     "metadata": {},
     "output_type": "execute_result"
    }
   ],
   "source": [
    "happinessData.isnull().sum()"
   ]
  },
  {
   "cell_type": "markdown",
   "id": "e2b722af",
   "metadata": {},
   "source": [
    "1. ASSIGNMENT RESEARCH ON USING REGRESSION TO REPLACE MISSING DATA\n"
   ]
  },
  {
   "cell_type": "code",
   "execution_count": 38,
   "id": "5389f559",
   "metadata": {},
   "outputs": [
    {
     "data": {
      "text/html": [
       "<div>\n",
       "<style scoped>\n",
       "    .dataframe tbody tr th:only-of-type {\n",
       "        vertical-align: middle;\n",
       "    }\n",
       "\n",
       "    .dataframe tbody tr th {\n",
       "        vertical-align: top;\n",
       "    }\n",
       "\n",
       "    .dataframe thead th {\n",
       "        text-align: right;\n",
       "    }\n",
       "</style>\n",
       "<table border=\"1\" class=\"dataframe\">\n",
       "  <thead>\n",
       "    <tr style=\"text-align: right;\">\n",
       "      <th></th>\n",
       "      <th>Country</th>\n",
       "      <th>Region</th>\n",
       "      <th>Happiness Rank</th>\n",
       "      <th>Happiness Score</th>\n",
       "      <th>Standard Error</th>\n",
       "      <th>Economy (GDP per Capita)</th>\n",
       "      <th>Family</th>\n",
       "      <th>Health (Life Expectancy)</th>\n",
       "      <th>Freedom</th>\n",
       "      <th>Trust (Government Corruption)</th>\n",
       "      <th>Generosity</th>\n",
       "      <th>Dystopia Residual</th>\n",
       "    </tr>\n",
       "  </thead>\n",
       "  <tbody>\n",
       "    <tr>\n",
       "      <th>0</th>\n",
       "      <td>Switzerland</td>\n",
       "      <td>Western Europe</td>\n",
       "      <td>1.0</td>\n",
       "      <td>7.587</td>\n",
       "      <td>0.03411</td>\n",
       "      <td>1.39651</td>\n",
       "      <td>1.34951</td>\n",
       "      <td>0.94143</td>\n",
       "      <td>0.66557</td>\n",
       "      <td>0.41978</td>\n",
       "      <td>0.29678</td>\n",
       "      <td>2.51738</td>\n",
       "    </tr>\n",
       "    <tr>\n",
       "      <th>1</th>\n",
       "      <td>Iceland</td>\n",
       "      <td>Western Europe</td>\n",
       "      <td>2.0</td>\n",
       "      <td>7.561</td>\n",
       "      <td>0.04884</td>\n",
       "      <td>1.30232</td>\n",
       "      <td>1.40223</td>\n",
       "      <td>0.94784</td>\n",
       "      <td>0.62877</td>\n",
       "      <td>0.14145</td>\n",
       "      <td>0.43630</td>\n",
       "      <td>2.70201</td>\n",
       "    </tr>\n",
       "    <tr>\n",
       "      <th>2</th>\n",
       "      <td>Denmark</td>\n",
       "      <td>Western Europe</td>\n",
       "      <td>3.0</td>\n",
       "      <td>7.527</td>\n",
       "      <td>0.03328</td>\n",
       "      <td>1.32548</td>\n",
       "      <td>1.36058</td>\n",
       "      <td>0.87464</td>\n",
       "      <td>0.64938</td>\n",
       "      <td>0.48357</td>\n",
       "      <td>0.34139</td>\n",
       "      <td>2.49204</td>\n",
       "    </tr>\n",
       "    <tr>\n",
       "      <th>3</th>\n",
       "      <td>Norway</td>\n",
       "      <td>Western Europe</td>\n",
       "      <td>4.0</td>\n",
       "      <td>7.522</td>\n",
       "      <td>0.03880</td>\n",
       "      <td>1.45900</td>\n",
       "      <td>1.33095</td>\n",
       "      <td>0.88521</td>\n",
       "      <td>0.66973</td>\n",
       "      <td>0.36503</td>\n",
       "      <td>0.34699</td>\n",
       "      <td>2.46531</td>\n",
       "    </tr>\n",
       "    <tr>\n",
       "      <th>4</th>\n",
       "      <td>Canada</td>\n",
       "      <td>North America</td>\n",
       "      <td>5.0</td>\n",
       "      <td>7.427</td>\n",
       "      <td>0.03553</td>\n",
       "      <td>1.32629</td>\n",
       "      <td>1.32261</td>\n",
       "      <td>0.90563</td>\n",
       "      <td>0.63297</td>\n",
       "      <td>0.32957</td>\n",
       "      <td>0.45811</td>\n",
       "      <td>2.45176</td>\n",
       "    </tr>\n",
       "  </tbody>\n",
       "</table>\n",
       "</div>"
      ],
      "text/plain": [
       "       Country          Region  Happiness Rank  Happiness Score  \\\n",
       "0  Switzerland  Western Europe             1.0            7.587   \n",
       "1      Iceland  Western Europe             2.0            7.561   \n",
       "2      Denmark  Western Europe             3.0            7.527   \n",
       "3       Norway  Western Europe             4.0            7.522   \n",
       "4       Canada   North America             5.0            7.427   \n",
       "\n",
       "   Standard Error  Economy (GDP per Capita)   Family  \\\n",
       "0         0.03411                   1.39651  1.34951   \n",
       "1         0.04884                   1.30232  1.40223   \n",
       "2         0.03328                   1.32548  1.36058   \n",
       "3         0.03880                   1.45900  1.33095   \n",
       "4         0.03553                   1.32629  1.32261   \n",
       "\n",
       "   Health (Life Expectancy)  Freedom  Trust (Government Corruption)  \\\n",
       "0                   0.94143  0.66557                        0.41978   \n",
       "1                   0.94784  0.62877                        0.14145   \n",
       "2                   0.87464  0.64938                        0.48357   \n",
       "3                   0.88521  0.66973                        0.36503   \n",
       "4                   0.90563  0.63297                        0.32957   \n",
       "\n",
       "   Generosity  Dystopia Residual  \n",
       "0     0.29678            2.51738  \n",
       "1     0.43630            2.70201  \n",
       "2     0.34139            2.49204  \n",
       "3     0.34699            2.46531  \n",
       "4     0.45811            2.45176  "
      ]
     },
     "execution_count": 38,
     "metadata": {},
     "output_type": "execute_result"
    }
   ],
   "source": [
    "happinessData.head()"
   ]
  },
  {
   "cell_type": "code",
   "execution_count": 36,
   "id": "b2bd2b60",
   "metadata": {},
   "outputs": [],
   "source": [
    "happinessData['Country'] = happinessData.Country.fillna('Switzerland')"
   ]
  },
  {
   "cell_type": "code",
   "execution_count": 37,
   "id": "f514af54",
   "metadata": {},
   "outputs": [
    {
     "data": {
      "text/plain": [
       "Country                          0\n",
       "Region                           0\n",
       "Happiness Rank                   2\n",
       "Happiness Score                  0\n",
       "Standard Error                   1\n",
       "Economy (GDP per Capita)         0\n",
       "Family                           0\n",
       "Health (Life Expectancy)         0\n",
       "Freedom                          0\n",
       "Trust (Government Corruption)    0\n",
       "Generosity                       0\n",
       "Dystopia Residual                1\n",
       "dtype: int64"
      ]
     },
     "execution_count": 37,
     "metadata": {},
     "output_type": "execute_result"
    }
   ],
   "source": [
    "happinessData.isnull().sum()"
   ]
  },
  {
   "cell_type": "code",
   "execution_count": 11,
   "id": "6d71ceab",
   "metadata": {},
   "outputs": [
    {
     "data": {
      "text/plain": [
       "<function matplotlib.pyplot.show(close=None, block=None)>"
      ]
     },
     "execution_count": 11,
     "metadata": {},
     "output_type": "execute_result"
    },
    {
     "data": {
      "image/png": "[encoded data removed]",
      "text/plain": [
       "<Figure size 864x432 with 1 Axes>"
      ]
     },
     "metadata": {},
     "output_type": "display_data"
    }
   ],
   "source": [
    "happinessData.boxplot(column=['Happiness Score'])\n",
    "plt.show"
   ]
  },
  {
   "cell_type": "code",
   "execution_count": 71,
   "id": "02586579",
   "metadata": {},
   "outputs": [],
   "source": [
    "happinessData = pd.read_csv(\"files/Happiness.csv\")\n",
    "# dups = happinessData.duplicated()"
   ]
  },
  {
   "cell_type": "code",
   "execution_count": 73,
   "id": "955cca7b",
   "metadata": {},
   "outputs": [
    {
     "data": {
      "text/html": [
       "<div>\n",
       "<style scoped>\n",
       "    .dataframe tbody tr th:only-of-type {\n",
       "        vertical-align: middle;\n",
       "    }\n",
       "\n",
       "    .dataframe tbody tr th {\n",
       "        vertical-align: top;\n",
       "    }\n",
       "\n",
       "    .dataframe thead th {\n",
       "        text-align: right;\n",
       "    }\n",
       "</style>\n",
       "<table border=\"1\" class=\"dataframe\">\n",
       "  <thead>\n",
       "    <tr style=\"text-align: right;\">\n",
       "      <th></th>\n",
       "      <th>Country</th>\n",
       "      <th>Region</th>\n",
       "      <th>Happiness Rank</th>\n",
       "      <th>Happiness Score</th>\n",
       "      <th>Standard Error</th>\n",
       "      <th>Economy (GDP per Capita)</th>\n",
       "      <th>Family</th>\n",
       "      <th>Health (Life Expectancy)</th>\n",
       "      <th>Freedom</th>\n",
       "      <th>Trust (Government Corruption)</th>\n",
       "      <th>Generosity</th>\n",
       "      <th>Dystopia Residual</th>\n",
       "    </tr>\n",
       "  </thead>\n",
       "  <tbody>\n",
       "    <tr>\n",
       "      <th>158</th>\n",
       "      <td>Central African Republic</td>\n",
       "      <td>Sub-Saharan Africa</td>\n",
       "      <td>148.0</td>\n",
       "      <td>3.678</td>\n",
       "      <td>0.06112</td>\n",
       "      <td>0.07850</td>\n",
       "      <td>0.00000</td>\n",
       "      <td>0.06699</td>\n",
       "      <td>0.48879</td>\n",
       "      <td>0.08289</td>\n",
       "      <td>0.23835</td>\n",
       "      <td>2.72230</td>\n",
       "    </tr>\n",
       "    <tr>\n",
       "      <th>159</th>\n",
       "      <td>Chad</td>\n",
       "      <td>Sub-Saharan Africa</td>\n",
       "      <td>149.0</td>\n",
       "      <td>3.667</td>\n",
       "      <td>0.03830</td>\n",
       "      <td>0.34193</td>\n",
       "      <td>0.76062</td>\n",
       "      <td>0.15010</td>\n",
       "      <td>0.23501</td>\n",
       "      <td>0.05269</td>\n",
       "      <td>0.18386</td>\n",
       "      <td>1.94296</td>\n",
       "    </tr>\n",
       "    <tr>\n",
       "      <th>160</th>\n",
       "      <td>Guinea</td>\n",
       "      <td>Sub-Saharan Africa</td>\n",
       "      <td>150.0</td>\n",
       "      <td>3.656</td>\n",
       "      <td>0.03590</td>\n",
       "      <td>0.17417</td>\n",
       "      <td>0.46475</td>\n",
       "      <td>0.24009</td>\n",
       "      <td>0.37725</td>\n",
       "      <td>0.12139</td>\n",
       "      <td>0.28657</td>\n",
       "      <td>1.99172</td>\n",
       "    </tr>\n",
       "    <tr>\n",
       "      <th>161</th>\n",
       "      <td>Ivory Coast</td>\n",
       "      <td>Sub-Saharan Africa</td>\n",
       "      <td>151.0</td>\n",
       "      <td>3.655</td>\n",
       "      <td>0.05141</td>\n",
       "      <td>0.46534</td>\n",
       "      <td>0.77115</td>\n",
       "      <td>0.15185</td>\n",
       "      <td>0.46866</td>\n",
       "      <td>0.17922</td>\n",
       "      <td>0.20165</td>\n",
       "      <td>1.41723</td>\n",
       "    </tr>\n",
       "    <tr>\n",
       "      <th>162</th>\n",
       "      <td>Burkina Faso</td>\n",
       "      <td>Sub-Saharan Africa</td>\n",
       "      <td>152.0</td>\n",
       "      <td>3.587</td>\n",
       "      <td>0.04324</td>\n",
       "      <td>0.25812</td>\n",
       "      <td>0.85188</td>\n",
       "      <td>0.27125</td>\n",
       "      <td>0.39493</td>\n",
       "      <td>0.12832</td>\n",
       "      <td>0.21747</td>\n",
       "      <td>1.46494</td>\n",
       "    </tr>\n",
       "    <tr>\n",
       "      <th>163</th>\n",
       "      <td>Afghanistan</td>\n",
       "      <td>Southern Asia</td>\n",
       "      <td>153.0</td>\n",
       "      <td>3.575</td>\n",
       "      <td>0.03084</td>\n",
       "      <td>0.31982</td>\n",
       "      <td>0.30285</td>\n",
       "      <td>0.30335</td>\n",
       "      <td>0.23414</td>\n",
       "      <td>0.09719</td>\n",
       "      <td>0.36510</td>\n",
       "      <td>1.95210</td>\n",
       "    </tr>\n",
       "    <tr>\n",
       "      <th>164</th>\n",
       "      <td>Rwanda</td>\n",
       "      <td>Sub-Saharan Africa</td>\n",
       "      <td>154.0</td>\n",
       "      <td>3.465</td>\n",
       "      <td>0.03464</td>\n",
       "      <td>0.22208</td>\n",
       "      <td>0.77370</td>\n",
       "      <td>0.42864</td>\n",
       "      <td>0.59201</td>\n",
       "      <td>0.55191</td>\n",
       "      <td>0.22628</td>\n",
       "      <td>0.67042</td>\n",
       "    </tr>\n",
       "    <tr>\n",
       "      <th>165</th>\n",
       "      <td>Benin</td>\n",
       "      <td>Sub-Saharan Africa</td>\n",
       "      <td>155.0</td>\n",
       "      <td>3.340</td>\n",
       "      <td>0.03656</td>\n",
       "      <td>0.28665</td>\n",
       "      <td>0.35386</td>\n",
       "      <td>0.31910</td>\n",
       "      <td>0.48450</td>\n",
       "      <td>0.08010</td>\n",
       "      <td>0.18260</td>\n",
       "      <td>1.63328</td>\n",
       "    </tr>\n",
       "    <tr>\n",
       "      <th>166</th>\n",
       "      <td>Syria</td>\n",
       "      <td>Middle East and Northern Africa</td>\n",
       "      <td>156.0</td>\n",
       "      <td>3.006</td>\n",
       "      <td>0.05015</td>\n",
       "      <td>0.66320</td>\n",
       "      <td>0.47489</td>\n",
       "      <td>0.72193</td>\n",
       "      <td>0.15684</td>\n",
       "      <td>0.18906</td>\n",
       "      <td>0.47179</td>\n",
       "      <td>0.32858</td>\n",
       "    </tr>\n",
       "    <tr>\n",
       "      <th>167</th>\n",
       "      <td>Burundi</td>\n",
       "      <td>Sub-Saharan Africa</td>\n",
       "      <td>157.0</td>\n",
       "      <td>2.905</td>\n",
       "      <td>0.08658</td>\n",
       "      <td>0.01530</td>\n",
       "      <td>0.41587</td>\n",
       "      <td>0.22396</td>\n",
       "      <td>0.11850</td>\n",
       "      <td>0.10062</td>\n",
       "      <td>0.19727</td>\n",
       "      <td>1.83302</td>\n",
       "    </tr>\n",
       "    <tr>\n",
       "      <th>168</th>\n",
       "      <td>Togo</td>\n",
       "      <td>Sub-Saharan Africa</td>\n",
       "      <td>158.0</td>\n",
       "      <td>2.839</td>\n",
       "      <td>0.06727</td>\n",
       "      <td>0.20868</td>\n",
       "      <td>0.13995</td>\n",
       "      <td>0.28443</td>\n",
       "      <td>0.36453</td>\n",
       "      <td>0.10731</td>\n",
       "      <td>0.16681</td>\n",
       "      <td>1.56726</td>\n",
       "    </tr>\n",
       "  </tbody>\n",
       "</table>\n",
       "</div>"
      ],
      "text/plain": [
       "                      Country                           Region  \\\n",
       "158  Central African Republic               Sub-Saharan Africa   \n",
       "159                      Chad               Sub-Saharan Africa   \n",
       "160                    Guinea               Sub-Saharan Africa   \n",
       "161               Ivory Coast               Sub-Saharan Africa   \n",
       "162              Burkina Faso               Sub-Saharan Africa   \n",
       "163               Afghanistan                    Southern Asia   \n",
       "164                    Rwanda               Sub-Saharan Africa   \n",
       "165                     Benin               Sub-Saharan Africa   \n",
       "166                     Syria  Middle East and Northern Africa   \n",
       "167                   Burundi               Sub-Saharan Africa   \n",
       "168                      Togo               Sub-Saharan Africa   \n",
       "\n",
       "     Happiness Rank  Happiness Score  Standard Error  \\\n",
       "158           148.0            3.678         0.06112   \n",
       "159           149.0            3.667         0.03830   \n",
       "160           150.0            3.656         0.03590   \n",
       "161           151.0            3.655         0.05141   \n",
       "162           152.0            3.587         0.04324   \n",
       "163           153.0            3.575         0.03084   \n",
       "164           154.0            3.465         0.03464   \n",
       "165           155.0            3.340         0.03656   \n",
       "166           156.0            3.006         0.05015   \n",
       "167           157.0            2.905         0.08658   \n",
       "168           158.0            2.839         0.06727   \n",
       "\n",
       "     Economy (GDP per Capita)   Family  Health (Life Expectancy)  Freedom  \\\n",
       "158                   0.07850  0.00000                   0.06699  0.48879   \n",
       "159                   0.34193  0.76062                   0.15010  0.23501   \n",
       "160                   0.17417  0.46475                   0.24009  0.37725   \n",
       "161                   0.46534  0.77115                   0.15185  0.46866   \n",
       "162                   0.25812  0.85188                   0.27125  0.39493   \n",
       "163                   0.31982  0.30285                   0.30335  0.23414   \n",
       "164                   0.22208  0.77370                   0.42864  0.59201   \n",
       "165                   0.28665  0.35386                   0.31910  0.48450   \n",
       "166                   0.66320  0.47489                   0.72193  0.15684   \n",
       "167                   0.01530  0.41587                   0.22396  0.11850   \n",
       "168                   0.20868  0.13995                   0.28443  0.36453   \n",
       "\n",
       "     Trust (Government Corruption)  Generosity  Dystopia Residual  \n",
       "158                        0.08289     0.23835            2.72230  \n",
       "159                        0.05269     0.18386            1.94296  \n",
       "160                        0.12139     0.28657            1.99172  \n",
       "161                        0.17922     0.20165            1.41723  \n",
       "162                        0.12832     0.21747            1.46494  \n",
       "163                        0.09719     0.36510            1.95210  \n",
       "164                        0.55191     0.22628            0.67042  \n",
       "165                        0.08010     0.18260            1.63328  \n",
       "166                        0.18906     0.47179            0.32858  \n",
       "167                        0.10062     0.19727            1.83302  \n",
       "168                        0.10731     0.16681            1.56726  "
      ]
     },
     "execution_count": 73,
     "metadata": {},
     "output_type": "execute_result"
    }
   ],
   "source": [
    "dups = happinessData[happinessData.duplicated()]\n",
    "dups"
   ]
  },
  {
   "cell_type": "code",
   "execution_count": 74,
   "id": "90d7427c",
   "metadata": {},
   "outputs": [],
   "source": [
    "happinessData.drop_duplicates(inplace=True)"
   ]
  },
  {
   "cell_type": "code",
   "execution_count": 75,
   "id": "f62cf755",
   "metadata": {},
   "outputs": [],
   "source": [
    "dups = happinessData.duplicated()"
   ]
  },
  {
   "cell_type": "code",
   "execution_count": 76,
   "id": "bfa80ced",
   "metadata": {},
   "outputs": [
    {
     "data": {
      "text/plain": [
       "0"
      ]
     },
     "execution_count": 76,
     "metadata": {},
     "output_type": "execute_result"
    }
   ],
   "source": [
    "dups.sum()"
   ]
  },
  {
   "cell_type": "markdown",
   "id": "46795a6c",
   "metadata": {},
   "source": [
    "2. ASSIGNMENT SEARCH ON FILTERING AND SORTING DATA"
   ]
  },
  {
   "cell_type": "markdown",
   "id": "574af457",
   "metadata": {},
   "source": [
    "3.  Splitting, Merging and Concatenation \n",
    "4.  Exporting Data"
   ]
  },
  {
   "cell_type": "code",
   "execution_count": null,
   "id": "a9acb5df",
   "metadata": {},
   "outputs": [],
   "source": [
    "happinessData #training_data, testing_data, evaluation_data"
   ]
  },
  {
   "cell_type": "code",
   "execution_count": 77,
   "id": "dc3b2b6b",
   "metadata": {},
   "outputs": [
    {
     "data": {
      "text/plain": [
       "(158, 12)"
      ]
     },
     "execution_count": 77,
     "metadata": {},
     "output_type": "execute_result"
    }
   ],
   "source": [
    "happinessData.shape"
   ]
  },
  {
   "cell_type": "markdown",
   "id": "6bcef31f",
   "metadata": {},
   "source": [
    "Data Spliting and data merging\n",
    "\n"
   ]
  },
  {
   "cell_type": "code",
   "execution_count": 12,
   "id": "3ed99d7a",
   "metadata": {},
   "outputs": [
    {
     "name": "stdout",
     "output_type": "stream",
     "text": [
      "Defaulting to user installation because normal site-packages is not writeable\n",
      "Requirement already satisfied: sklearn in /home/phineasnthiga/.local/lib/python3.10/site-packages (0.0)\n",
      "Requirement already satisfied: scikit-learn in /home/phineasnthiga/.local/lib/python3.10/site-packages (from sklearn) (1.1.1)\n",
      "Requirement already satisfied: numpy>=1.17.3 in /home/phineasnthiga/.local/lib/python3.10/site-packages (from scikit-learn->sklearn) (1.23.0)\n",
      "Requirement already satisfied: joblib>=1.0.0 in /home/phineasnthiga/.local/lib/python3.10/site-packages (from scikit-learn->sklearn) (1.1.0)\n",
      "Requirement already satisfied: threadpoolctl>=2.0.0 in /home/phineasnthiga/.local/lib/python3.10/site-packages (from scikit-learn->sklearn) (3.1.0)\n",
      "Requirement already satisfied: scipy>=1.3.2 in /home/phineasnthiga/.local/lib/python3.10/site-packages (from scikit-learn->sklearn) (1.8.1)\n"
     ]
    }
   ],
   "source": [
    "!pip install sklearn\n",
    "\n"
   ]
  },
  {
   "cell_type": "code",
   "execution_count": 13,
   "id": "530a3b61",
   "metadata": {},
   "outputs": [],
   "source": [
    "from sklearn.model_selection import train_test_split"
   ]
  },
  {
   "cell_type": "code",
   "execution_count": null,
   "id": "dee2677a",
   "metadata": {},
   "outputs": [],
   "source": []
  },
  {
   "cell_type": "markdown",
   "id": "75d74a32",
   "metadata": {},
   "source": [
    "Spliting, merge or concat"
   ]
  },
  {
   "cell_type": "code",
   "execution_count": 9,
   "id": "876fa685",
   "metadata": {},
   "outputs": [
    {
     "ename": "SyntaxError",
     "evalue": "invalid syntax (<ipython-input-9-32fce5b99980>, line 1)",
     "output_type": "error",
     "traceback": [
      "\u001b[0;36m  File \u001b[0;32m\"<ipython-input-9-32fce5b99980>\"\u001b[0;36m, line \u001b[0;32m1\u001b[0m\n\u001b[0;31m    training_data = --------\u001b[0m\n\u001b[0m                            ^\u001b[0m\n\u001b[0;31mSyntaxError\u001b[0m\u001b[0;31m:\u001b[0m invalid syntax\n"
     ]
    }
   ],
   "source": []
  },
  {
   "cell_type": "code",
   "execution_count": 12,
   "id": "834c28b5",
   "metadata": {},
   "outputs": [],
   "source": [
    "happinessData = pd.read_csv(\"files/Happiness.csv\")\n",
    "\n",
    "happinessData.shape\n",
    "\n",
    "happinessData.duplicated().sum()\n",
    "\n",
    "happinessData.drop_duplicates(inplace=True)\n",
    "\n",
    "\n"
   ]
  },
  {
   "cell_type": "code",
   "execution_count": null,
   "id": "4e96f147",
   "metadata": {},
   "outputs": [],
   "source": []
  },
  {
   "cell_type": "code",
   "execution_count": null,
   "id": "dbea4196",
   "metadata": {},
   "outputs": [],
   "source": []
  },
  {
   "cell_type": "code",
   "execution_count": 13,
   "id": "23118e0b",
   "metadata": {},
   "outputs": [
    {
     "data": {
      "text/plain": [
       "0"
      ]
     },
     "execution_count": 13,
     "metadata": {},
     "output_type": "execute_result"
    }
   ],
   "source": [
    "happinessData.duplicated().sum()"
   ]
  },
  {
   "cell_type": "code",
   "execution_count": 50,
   "id": "90987647",
   "metadata": {},
   "outputs": [],
   "source": [
    "happinessData.dropna(inplace=True)"
   ]
  },
  {
   "cell_type": "code",
   "execution_count": null,
   "id": "3515a1aa",
   "metadata": {},
   "outputs": [],
   "source": []
  },
  {
   "cell_type": "code",
   "execution_count": null,
   "id": "d6ec7307",
   "metadata": {},
   "outputs": [],
   "source": []
  },
  {
   "cell_type": "code",
   "execution_count": 51,
   "id": "be1b7088",
   "metadata": {},
   "outputs": [
    {
     "data": {
      "text/plain": [
       "31"
      ]
     },
     "execution_count": 51,
     "metadata": {},
     "output_type": "execute_result"
    }
   ],
   "source": [
    "len(happinessData) - 125"
   ]
  },
  {
   "cell_type": "code",
   "execution_count": 95,
   "id": "f44ecf12",
   "metadata": {},
   "outputs": [
    {
     "name": "stdout",
     "output_type": "stream",
     "text": [
      "(125, 13) (30, 13)\n",
      "(155, 13)\n"
     ]
    }
   ],
   "source": [
    "\n",
    "training_data = happinessData.iloc[0:125]\n",
    "testing_data = happinessData.iloc[126:len(happinessData)]\n",
    "#concat data\n",
    "print(training_data.shape, testing_data.shape)\n",
    "new_data = pd.concat([training_data,testing_data])\n",
    "\n",
    "print(new_data.shape)\n",
    "\n",
    "\n",
    "new_data2 = \n"
   ]
  },
  {
   "cell_type": "code",
   "execution_count": 15,
   "id": "30683ad3",
   "metadata": {},
   "outputs": [
    {
     "data": {
      "text/html": [
       "<div>\n",
       "<style scoped>\n",
       "    .dataframe tbody tr th:only-of-type {\n",
       "        vertical-align: middle;\n",
       "    }\n",
       "\n",
       "    .dataframe tbody tr th {\n",
       "        vertical-align: top;\n",
       "    }\n",
       "\n",
       "    .dataframe thead th {\n",
       "        text-align: right;\n",
       "    }\n",
       "</style>\n",
       "<table border=\"1\" class=\"dataframe\">\n",
       "  <thead>\n",
       "    <tr style=\"text-align: right;\">\n",
       "      <th></th>\n",
       "      <th>Country</th>\n",
       "      <th>Region</th>\n",
       "      <th>Happiness Rank</th>\n",
       "      <th>Happiness Score</th>\n",
       "      <th>Standard Error</th>\n",
       "      <th>Economy (GDP per Capita)</th>\n",
       "      <th>Family</th>\n",
       "      <th>Health (Life Expectancy)</th>\n",
       "      <th>Freedom</th>\n",
       "      <th>Trust (Government Corruption)</th>\n",
       "      <th>Generosity</th>\n",
       "      <th>Dystopia Residual</th>\n",
       "    </tr>\n",
       "  </thead>\n",
       "  <tbody>\n",
       "    <tr>\n",
       "      <th>126</th>\n",
       "      <td>Armenia</td>\n",
       "      <td>Central and Eastern Europe</td>\n",
       "      <td>127.0</td>\n",
       "      <td>4.350</td>\n",
       "      <td>0.04763</td>\n",
       "      <td>0.76821</td>\n",
       "      <td>0.77711</td>\n",
       "      <td>0.72990</td>\n",
       "      <td>0.19847</td>\n",
       "      <td>0.03900</td>\n",
       "      <td>0.07855</td>\n",
       "      <td>1.75873</td>\n",
       "    </tr>\n",
       "    <tr>\n",
       "      <th>127</th>\n",
       "      <td>Botswana</td>\n",
       "      <td>Sub-Saharan Africa</td>\n",
       "      <td>128.0</td>\n",
       "      <td>4.332</td>\n",
       "      <td>0.04934</td>\n",
       "      <td>0.99355</td>\n",
       "      <td>1.10464</td>\n",
       "      <td>0.04776</td>\n",
       "      <td>0.49495</td>\n",
       "      <td>0.12474</td>\n",
       "      <td>0.10461</td>\n",
       "      <td>1.46181</td>\n",
       "    </tr>\n",
       "    <tr>\n",
       "      <th>128</th>\n",
       "      <td>Myanmar</td>\n",
       "      <td>Southeastern Asia</td>\n",
       "      <td>129.0</td>\n",
       "      <td>4.307</td>\n",
       "      <td>0.04351</td>\n",
       "      <td>0.27108</td>\n",
       "      <td>0.70905</td>\n",
       "      <td>0.48246</td>\n",
       "      <td>0.44017</td>\n",
       "      <td>0.19034</td>\n",
       "      <td>0.79588</td>\n",
       "      <td>1.41805</td>\n",
       "    </tr>\n",
       "    <tr>\n",
       "      <th>129</th>\n",
       "      <td>Georgia</td>\n",
       "      <td>Central and Eastern Europe</td>\n",
       "      <td>130.0</td>\n",
       "      <td>4.297</td>\n",
       "      <td>0.04221</td>\n",
       "      <td>0.74190</td>\n",
       "      <td>0.38562</td>\n",
       "      <td>0.72926</td>\n",
       "      <td>0.40577</td>\n",
       "      <td>0.38331</td>\n",
       "      <td>0.05547</td>\n",
       "      <td>1.59541</td>\n",
       "    </tr>\n",
       "    <tr>\n",
       "      <th>130</th>\n",
       "      <td>Malawi</td>\n",
       "      <td>Sub-Saharan Africa</td>\n",
       "      <td>131.0</td>\n",
       "      <td>4.292</td>\n",
       "      <td>0.06130</td>\n",
       "      <td>0.01604</td>\n",
       "      <td>0.41134</td>\n",
       "      <td>0.22562</td>\n",
       "      <td>0.43054</td>\n",
       "      <td>0.06977</td>\n",
       "      <td>0.33128</td>\n",
       "      <td>2.80791</td>\n",
       "    </tr>\n",
       "  </tbody>\n",
       "</table>\n",
       "</div>"
      ],
      "text/plain": [
       "      Country                      Region  Happiness Rank  Happiness Score  \\\n",
       "126   Armenia  Central and Eastern Europe           127.0            4.350   \n",
       "127  Botswana          Sub-Saharan Africa           128.0            4.332   \n",
       "128   Myanmar           Southeastern Asia           129.0            4.307   \n",
       "129   Georgia  Central and Eastern Europe           130.0            4.297   \n",
       "130    Malawi          Sub-Saharan Africa           131.0            4.292   \n",
       "\n",
       "     Standard Error  Economy (GDP per Capita)   Family  \\\n",
       "126         0.04763                   0.76821  0.77711   \n",
       "127         0.04934                   0.99355  1.10464   \n",
       "128         0.04351                   0.27108  0.70905   \n",
       "129         0.04221                   0.74190  0.38562   \n",
       "130         0.06130                   0.01604  0.41134   \n",
       "\n",
       "     Health (Life Expectancy)  Freedom  Trust (Government Corruption)  \\\n",
       "126                   0.72990  0.19847                        0.03900   \n",
       "127                   0.04776  0.49495                        0.12474   \n",
       "128                   0.48246  0.44017                        0.19034   \n",
       "129                   0.72926  0.40577                        0.38331   \n",
       "130                   0.22562  0.43054                        0.06977   \n",
       "\n",
       "     Generosity  Dystopia Residual  \n",
       "126     0.07855            1.75873  \n",
       "127     0.10461            1.46181  \n",
       "128     0.79588            1.41805  \n",
       "129     0.05547            1.59541  \n",
       "130     0.33128            2.80791  "
      ]
     },
     "execution_count": 15,
     "metadata": {},
     "output_type": "execute_result"
    }
   ],
   "source": [
    "training_data.head()\n"
   ]
  },
  {
   "cell_type": "code",
   "execution_count": 17,
   "id": "4df2f174",
   "metadata": {},
   "outputs": [
    {
     "data": {
      "text/html": [
       "<div>\n",
       "<style scoped>\n",
       "    .dataframe tbody tr th:only-of-type {\n",
       "        vertical-align: middle;\n",
       "    }\n",
       "\n",
       "    .dataframe tbody tr th {\n",
       "        vertical-align: top;\n",
       "    }\n",
       "\n",
       "    .dataframe thead th {\n",
       "        text-align: right;\n",
       "    }\n",
       "</style>\n",
       "<table border=\"1\" class=\"dataframe\">\n",
       "  <thead>\n",
       "    <tr style=\"text-align: right;\">\n",
       "      <th></th>\n",
       "      <th>Country</th>\n",
       "      <th>Region</th>\n",
       "      <th>Happiness Rank</th>\n",
       "      <th>Happiness Score</th>\n",
       "      <th>Standard Error</th>\n",
       "      <th>Economy (GDP per Capita)</th>\n",
       "      <th>Family</th>\n",
       "      <th>Health (Life Expectancy)</th>\n",
       "      <th>Freedom</th>\n",
       "      <th>Trust (Government Corruption)</th>\n",
       "      <th>Generosity</th>\n",
       "      <th>Dystopia Residual</th>\n",
       "    </tr>\n",
       "  </thead>\n",
       "  <tbody>\n",
       "    <tr>\n",
       "      <th>153</th>\n",
       "      <td>Rwanda</td>\n",
       "      <td>Sub-Saharan Africa</td>\n",
       "      <td>154.0</td>\n",
       "      <td>3.465</td>\n",
       "      <td>0.03464</td>\n",
       "      <td>0.22208</td>\n",
       "      <td>0.77370</td>\n",
       "      <td>0.42864</td>\n",
       "      <td>0.59201</td>\n",
       "      <td>0.55191</td>\n",
       "      <td>0.22628</td>\n",
       "      <td>0.67042</td>\n",
       "    </tr>\n",
       "    <tr>\n",
       "      <th>154</th>\n",
       "      <td>Benin</td>\n",
       "      <td>Sub-Saharan Africa</td>\n",
       "      <td>155.0</td>\n",
       "      <td>3.340</td>\n",
       "      <td>0.03656</td>\n",
       "      <td>0.28665</td>\n",
       "      <td>0.35386</td>\n",
       "      <td>0.31910</td>\n",
       "      <td>0.48450</td>\n",
       "      <td>0.08010</td>\n",
       "      <td>0.18260</td>\n",
       "      <td>1.63328</td>\n",
       "    </tr>\n",
       "    <tr>\n",
       "      <th>155</th>\n",
       "      <td>Syria</td>\n",
       "      <td>Middle East and Northern Africa</td>\n",
       "      <td>156.0</td>\n",
       "      <td>3.006</td>\n",
       "      <td>0.05015</td>\n",
       "      <td>0.66320</td>\n",
       "      <td>0.47489</td>\n",
       "      <td>0.72193</td>\n",
       "      <td>0.15684</td>\n",
       "      <td>0.18906</td>\n",
       "      <td>0.47179</td>\n",
       "      <td>0.32858</td>\n",
       "    </tr>\n",
       "    <tr>\n",
       "      <th>156</th>\n",
       "      <td>Burundi</td>\n",
       "      <td>Sub-Saharan Africa</td>\n",
       "      <td>157.0</td>\n",
       "      <td>2.905</td>\n",
       "      <td>0.08658</td>\n",
       "      <td>0.01530</td>\n",
       "      <td>0.41587</td>\n",
       "      <td>0.22396</td>\n",
       "      <td>0.11850</td>\n",
       "      <td>0.10062</td>\n",
       "      <td>0.19727</td>\n",
       "      <td>1.83302</td>\n",
       "    </tr>\n",
       "    <tr>\n",
       "      <th>157</th>\n",
       "      <td>Togo</td>\n",
       "      <td>Sub-Saharan Africa</td>\n",
       "      <td>158.0</td>\n",
       "      <td>2.839</td>\n",
       "      <td>0.06727</td>\n",
       "      <td>0.20868</td>\n",
       "      <td>0.13995</td>\n",
       "      <td>0.28443</td>\n",
       "      <td>0.36453</td>\n",
       "      <td>0.10731</td>\n",
       "      <td>0.16681</td>\n",
       "      <td>1.56726</td>\n",
       "    </tr>\n",
       "  </tbody>\n",
       "</table>\n",
       "</div>"
      ],
      "text/plain": [
       "     Country                           Region  Happiness Rank  \\\n",
       "153   Rwanda               Sub-Saharan Africa           154.0   \n",
       "154    Benin               Sub-Saharan Africa           155.0   \n",
       "155    Syria  Middle East and Northern Africa           156.0   \n",
       "156  Burundi               Sub-Saharan Africa           157.0   \n",
       "157     Togo               Sub-Saharan Africa           158.0   \n",
       "\n",
       "     Happiness Score  Standard Error  Economy (GDP per Capita)   Family  \\\n",
       "153            3.465         0.03464                   0.22208  0.77370   \n",
       "154            3.340         0.03656                   0.28665  0.35386   \n",
       "155            3.006         0.05015                   0.66320  0.47489   \n",
       "156            2.905         0.08658                   0.01530  0.41587   \n",
       "157            2.839         0.06727                   0.20868  0.13995   \n",
       "\n",
       "     Health (Life Expectancy)  Freedom  Trust (Government Corruption)  \\\n",
       "153                   0.42864  0.59201                        0.55191   \n",
       "154                   0.31910  0.48450                        0.08010   \n",
       "155                   0.72193  0.15684                        0.18906   \n",
       "156                   0.22396  0.11850                        0.10062   \n",
       "157                   0.28443  0.36453                        0.10731   \n",
       "\n",
       "     Generosity  Dystopia Residual  \n",
       "153     0.22628            0.67042  \n",
       "154     0.18260            1.63328  \n",
       "155     0.47179            0.32858  \n",
       "156     0.19727            1.83302  \n",
       "157     0.16681            1.56726  "
      ]
     },
     "execution_count": 17,
     "metadata": {},
     "output_type": "execute_result"
    }
   ],
   "source": [
    "testing_data.tail()"
   ]
  },
  {
   "cell_type": "code",
   "execution_count": 69,
   "id": "090741f9",
   "metadata": {},
   "outputs": [],
   "source": [
    "happinessData = happinessData.reset_index()"
   ]
  },
  {
   "cell_type": "code",
   "execution_count": 70,
   "id": "a78b306c",
   "metadata": {},
   "outputs": [],
   "source": [
    "feature_columns = ['Happiness Rank','Happiness Score','Economy (GDP per Capita)','Family','Health (Life Expectancy)','Trust (Government Corruption)','Dystopia Residual']"
   ]
  },
  {
   "cell_type": "code",
   "execution_count": 71,
   "id": "12d65ea1",
   "metadata": {},
   "outputs": [],
   "source": [
    "label = ['Generosity','Freedom']"
   ]
  },
  {
   "cell_type": "code",
   "execution_count": 72,
   "id": "77546ab2",
   "metadata": {},
   "outputs": [],
   "source": [
    "X , y = happinessData.loc[0:158,feature_columns] , happinessData.loc[0:158,label]"
   ]
  },
  {
   "cell_type": "code",
   "execution_count": 73,
   "id": "ae189edb",
   "metadata": {},
   "outputs": [
    {
     "data": {
      "text/html": [
       "<div>\n",
       "<style scoped>\n",
       "    .dataframe tbody tr th:only-of-type {\n",
       "        vertical-align: middle;\n",
       "    }\n",
       "\n",
       "    .dataframe tbody tr th {\n",
       "        vertical-align: top;\n",
       "    }\n",
       "\n",
       "    .dataframe thead th {\n",
       "        text-align: right;\n",
       "    }\n",
       "</style>\n",
       "<table border=\"1\" class=\"dataframe\">\n",
       "  <thead>\n",
       "    <tr style=\"text-align: right;\">\n",
       "      <th></th>\n",
       "      <th>Happiness Rank</th>\n",
       "      <th>Happiness Score</th>\n",
       "      <th>Economy (GDP per Capita)</th>\n",
       "      <th>Family</th>\n",
       "      <th>Health (Life Expectancy)</th>\n",
       "      <th>Trust (Government Corruption)</th>\n",
       "      <th>Dystopia Residual</th>\n",
       "    </tr>\n",
       "  </thead>\n",
       "  <tbody>\n",
       "    <tr>\n",
       "      <th>0</th>\n",
       "      <td>1.0</td>\n",
       "      <td>7.587</td>\n",
       "      <td>1.39651</td>\n",
       "      <td>1.34951</td>\n",
       "      <td>0.94143</td>\n",
       "      <td>0.41978</td>\n",
       "      <td>2.51738</td>\n",
       "    </tr>\n",
       "    <tr>\n",
       "      <th>1</th>\n",
       "      <td>2.0</td>\n",
       "      <td>7.561</td>\n",
       "      <td>1.30232</td>\n",
       "      <td>1.40223</td>\n",
       "      <td>0.94784</td>\n",
       "      <td>0.14145</td>\n",
       "      <td>2.70201</td>\n",
       "    </tr>\n",
       "    <tr>\n",
       "      <th>2</th>\n",
       "      <td>3.0</td>\n",
       "      <td>7.527</td>\n",
       "      <td>1.32548</td>\n",
       "      <td>1.36058</td>\n",
       "      <td>0.87464</td>\n",
       "      <td>0.48357</td>\n",
       "      <td>2.49204</td>\n",
       "    </tr>\n",
       "    <tr>\n",
       "      <th>3</th>\n",
       "      <td>4.0</td>\n",
       "      <td>7.522</td>\n",
       "      <td>1.45900</td>\n",
       "      <td>1.33095</td>\n",
       "      <td>0.88521</td>\n",
       "      <td>0.36503</td>\n",
       "      <td>2.46531</td>\n",
       "    </tr>\n",
       "    <tr>\n",
       "      <th>4</th>\n",
       "      <td>5.0</td>\n",
       "      <td>7.427</td>\n",
       "      <td>1.32629</td>\n",
       "      <td>1.32261</td>\n",
       "      <td>0.90563</td>\n",
       "      <td>0.32957</td>\n",
       "      <td>2.45176</td>\n",
       "    </tr>\n",
       "  </tbody>\n",
       "</table>\n",
       "</div>"
      ],
      "text/plain": [
       "   Happiness Rank  Happiness Score  Economy (GDP per Capita)   Family  \\\n",
       "0             1.0            7.587                   1.39651  1.34951   \n",
       "1             2.0            7.561                   1.30232  1.40223   \n",
       "2             3.0            7.527                   1.32548  1.36058   \n",
       "3             4.0            7.522                   1.45900  1.33095   \n",
       "4             5.0            7.427                   1.32629  1.32261   \n",
       "\n",
       "   Health (Life Expectancy)  Trust (Government Corruption)  Dystopia Residual  \n",
       "0                   0.94143                        0.41978            2.51738  \n",
       "1                   0.94784                        0.14145            2.70201  \n",
       "2                   0.87464                        0.48357            2.49204  \n",
       "3                   0.88521                        0.36503            2.46531  \n",
       "4                   0.90563                        0.32957            2.45176  "
      ]
     },
     "execution_count": 73,
     "metadata": {},
     "output_type": "execute_result"
    }
   ],
   "source": [
    "X.head()"
   ]
  },
  {
   "cell_type": "code",
   "execution_count": 74,
   "id": "c30fdcff",
   "metadata": {},
   "outputs": [
    {
     "data": {
      "text/html": [
       "<div>\n",
       "<style scoped>\n",
       "    .dataframe tbody tr th:only-of-type {\n",
       "        vertical-align: middle;\n",
       "    }\n",
       "\n",
       "    .dataframe tbody tr th {\n",
       "        vertical-align: top;\n",
       "    }\n",
       "\n",
       "    .dataframe thead th {\n",
       "        text-align: right;\n",
       "    }\n",
       "</style>\n",
       "<table border=\"1\" class=\"dataframe\">\n",
       "  <thead>\n",
       "    <tr style=\"text-align: right;\">\n",
       "      <th></th>\n",
       "      <th>Generosity</th>\n",
       "      <th>Freedom</th>\n",
       "    </tr>\n",
       "  </thead>\n",
       "  <tbody>\n",
       "    <tr>\n",
       "      <th>0</th>\n",
       "      <td>0.29678</td>\n",
       "      <td>0.66557</td>\n",
       "    </tr>\n",
       "    <tr>\n",
       "      <th>1</th>\n",
       "      <td>0.43630</td>\n",
       "      <td>0.62877</td>\n",
       "    </tr>\n",
       "    <tr>\n",
       "      <th>2</th>\n",
       "      <td>0.34139</td>\n",
       "      <td>0.64938</td>\n",
       "    </tr>\n",
       "    <tr>\n",
       "      <th>3</th>\n",
       "      <td>0.34699</td>\n",
       "      <td>0.66973</td>\n",
       "    </tr>\n",
       "    <tr>\n",
       "      <th>4</th>\n",
       "      <td>0.45811</td>\n",
       "      <td>0.63297</td>\n",
       "    </tr>\n",
       "  </tbody>\n",
       "</table>\n",
       "</div>"
      ],
      "text/plain": [
       "   Generosity  Freedom\n",
       "0     0.29678  0.66557\n",
       "1     0.43630  0.62877\n",
       "2     0.34139  0.64938\n",
       "3     0.34699  0.66973\n",
       "4     0.45811  0.63297"
      ]
     },
     "execution_count": 74,
     "metadata": {},
     "output_type": "execute_result"
    }
   ],
   "source": [
    "y.head()"
   ]
  },
  {
   "cell_type": "code",
   "execution_count": 75,
   "id": "65dfa739",
   "metadata": {},
   "outputs": [],
   "source": [
    "from sklearn.model_selection import train_test_split\n",
    "\n",
    "X_train, X_test, y_train, y_test = train_test_split(X, y, \n",
    "                                                    train_size=0.67, \n",
    "                                                    random_state=42)"
   ]
  },
  {
   "cell_type": "code",
   "execution_count": 76,
   "id": "4c7be433",
   "metadata": {},
   "outputs": [
    {
     "data": {
      "text/plain": [
       "(104, 7)"
      ]
     },
     "execution_count": 76,
     "metadata": {},
     "output_type": "execute_result"
    }
   ],
   "source": [
    "X_train.shape"
   ]
  },
  {
   "cell_type": "code",
   "execution_count": 77,
   "id": "0d6236db",
   "metadata": {},
   "outputs": [
    {
     "data": {
      "text/plain": [
       "(52, 7)"
      ]
     },
     "execution_count": 77,
     "metadata": {},
     "output_type": "execute_result"
    }
   ],
   "source": [
    "X_test.shape"
   ]
  },
  {
   "cell_type": "code",
   "execution_count": 78,
   "id": "584f6c7a",
   "metadata": {},
   "outputs": [
    {
     "data": {
      "text/plain": [
       "(104, 2)"
      ]
     },
     "execution_count": 78,
     "metadata": {},
     "output_type": "execute_result"
    }
   ],
   "source": [
    "y_train.shape"
   ]
  },
  {
   "cell_type": "code",
   "execution_count": 79,
   "id": "7167bb8e",
   "metadata": {},
   "outputs": [
    {
     "data": {
      "text/plain": [
       "(52, 2)"
      ]
     },
     "execution_count": 79,
     "metadata": {},
     "output_type": "execute_result"
    }
   ],
   "source": [
    "y_test.shape"
   ]
  },
  {
   "cell_type": "code",
   "execution_count": null,
   "id": "ab3b478a",
   "metadata": {},
   "outputs": [],
   "source": []
  },
  {
   "cell_type": "code",
   "execution_count": 80,
   "id": "dd156a1c",
   "metadata": {},
   "outputs": [],
   "source": [
    "from sklearn import linear_model"
   ]
  },
  {
   "cell_type": "code",
   "execution_count": 81,
   "id": "61e9c8e6",
   "metadata": {},
   "outputs": [],
   "source": [
    "reg = linear_model.LinearRegression()"
   ]
  },
  {
   "cell_type": "code",
   "execution_count": null,
   "id": "0227663b",
   "metadata": {},
   "outputs": [],
   "source": []
  },
  {
   "cell_type": "code",
   "execution_count": 85,
   "id": "831e6c2f",
   "metadata": {},
   "outputs": [],
   "source": [
    "model = reg.fit(X_train, y_train)"
   ]
  },
  {
   "cell_type": "code",
   "execution_count": 86,
   "id": "df0d9636",
   "metadata": {},
   "outputs": [],
   "source": [
    "predected = model.predict(X_test)"
   ]
  },
  {
   "cell_type": "code",
   "execution_count": 87,
   "id": "4bc23475",
   "metadata": {},
   "outputs": [
    {
     "data": {
      "text/plain": [
       "array([[0.43754822, 0.58026526],\n",
       "       [0.39035595, 0.60072784],\n",
       "       [0.23674158, 0.44750748],\n",
       "       [0.39956743, 0.61263448],\n",
       "       [0.28911093, 0.37384393],\n",
       "       [0.15788432, 0.40631078],\n",
       "       [0.12566621, 0.35630477],\n",
       "       [0.10048514, 0.18511479],\n",
       "       [0.10908619, 0.23180055],\n",
       "       [0.24486898, 0.33154176],\n",
       "       [0.30307982, 0.602438  ],\n",
       "       [0.20059042, 0.35755624],\n",
       "       [0.18316911, 0.45349122],\n",
       "       [0.17575055, 0.42366492],\n",
       "       [0.27429672, 0.51191208],\n",
       "       [0.16059134, 0.40981896],\n",
       "       [0.31287066, 0.36463317],\n",
       "       [0.14207334, 0.30748875],\n",
       "       [0.2946904 , 0.37231648],\n",
       "       [0.14942088, 0.30861614],\n",
       "       [0.11941161, 0.36956174],\n",
       "       [0.26984765, 0.53681528],\n",
       "       [0.34783515, 0.6075778 ],\n",
       "       [0.41053859, 0.67637263],\n",
       "       [0.29003878, 0.54585166],\n",
       "       [0.11239697, 0.21503539],\n",
       "       [0.36629325, 0.57174397],\n",
       "       [0.18232238, 0.38233925],\n",
       "       [0.18385445, 0.45064691],\n",
       "       [0.29629309, 0.4720186 ],\n",
       "       [0.19122147, 0.40968465],\n",
       "       [0.29702481, 0.36687658],\n",
       "       [0.12661717, 0.36371183],\n",
       "       [0.32616211, 0.42195068],\n",
       "       [0.2678241 , 0.37370267],\n",
       "       [0.35789293, 0.40346657],\n",
       "       [0.20338601, 0.25823431],\n",
       "       [0.17547965, 0.35552903],\n",
       "       [0.1077075 , 0.37863547],\n",
       "       [0.27005685, 0.5052483 ],\n",
       "       [0.02340844, 0.20389316],\n",
       "       [0.15996742, 0.3568687 ],\n",
       "       [0.16770004, 0.25694411],\n",
       "       [0.19785338, 0.51961151],\n",
       "       [0.17542954, 0.44022959],\n",
       "       [0.11241614, 0.37485754],\n",
       "       [0.22305279, 0.35368431],\n",
       "       [0.14287175, 0.33654935],\n",
       "       [0.33747238, 0.55156054],\n",
       "       [0.18402566, 0.4152121 ],\n",
       "       [0.19181427, 0.45391172],\n",
       "       [0.10641888, 0.17068605]])"
      ]
     },
     "execution_count": 87,
     "metadata": {},
     "output_type": "execute_result"
    }
   ],
   "source": []
  },
  {
   "cell_type": "code",
   "execution_count": 89,
   "id": "0486f7c0",
   "metadata": {},
   "outputs": [],
   "source": [
    "from sklearn.metrics import mean_absolute_error"
   ]
  },
  {
   "cell_type": "code",
   "execution_count": 92,
   "id": "8e248740",
   "metadata": {},
   "outputs": [
    {
     "data": {
      "text/plain": [
       "5.194290487344899"
      ]
     },
     "execution_count": 92,
     "metadata": {},
     "output_type": "execute_result"
    }
   ],
   "source": [
    "mean_absolute_error(y_test, predected) * 100"
   ]
  },
  {
   "cell_type": "code",
   "execution_count": null,
   "id": "fc381d31",
   "metadata": {},
   "outputs": [],
   "source": []
  },
  {
   "cell_type": "code",
   "execution_count": null,
   "id": "f5a91a6c",
   "metadata": {},
   "outputs": [],
   "source": []
  },
  {
   "cell_type": "code",
   "execution_count": null,
   "id": "72937783",
   "metadata": {},
   "outputs": [],
   "source": []
  },
  {
   "cell_type": "markdown",
   "id": "b2c65cc1",
   "metadata": {},
   "source": [
    "1. Merge USING pandas merge function and APPEND using append function\n",
    "2. ASSIGNMENT Machine Learning Algorithms\n",
    "3. USE IRIS DATASET TO BUILD MACHINE LEARNING MODEL [linear_model]"
   ]
  },
  {
   "cell_type": "markdown",
   "id": "07c04c44",
   "metadata": {},
   "source": [
    "DATA MERGING "
   ]
  },
  {
   "cell_type": "code",
   "execution_count": null,
   "id": "90298e31",
   "metadata": {},
   "outputs": [],
   "source": []
  },
  {
   "cell_type": "code",
   "execution_count": null,
   "id": "3d4019a5",
   "metadata": {},
   "outputs": [],
   "source": []
  },
  {
   "cell_type": "code",
   "execution_count": null,
   "id": "38f1d674",
   "metadata": {},
   "outputs": [],
   "source": []
  },
  {
   "cell_type": "code",
   "execution_count": null,
   "id": "5d37f94a",
   "metadata": {},
   "outputs": [],
   "source": []
  },
  {
   "cell_type": "code",
   "execution_count": null,
   "id": "686ede57",
   "metadata": {},
   "outputs": [],
   "source": []
  },
  {
   "cell_type": "code",
   "execution_count": null,
   "id": "e3b831a8",
   "metadata": {},
   "outputs": [],
   "source": []
  },
  {
   "cell_type": "code",
   "execution_count": null,
   "id": "4d1a5071",
   "metadata": {},
   "outputs": [],
   "source": []
  },
  {
   "cell_type": "markdown",
   "id": "8887fac4",
   "metadata": {},
   "source": [
    "### The End"
   ]
  },
  {
   "cell_type": "code",
   "execution_count": null,
   "id": "39bf8fcf",
   "metadata": {},
   "outputs": [],
   "source": []
  },
  {
   "cell_type": "code",
   "execution_count": 4,
   "id": "c11d802a",
   "metadata": {},
   "outputs": [
    {
     "name": "stdout",
     "output_type": "stream",
     "text": [
      "Setup Complete\n"
     ]
    }
   ],
   "source": [
    "import pandas as pd\n",
    "pd.plotting.register_matplotlib_converters()\n",
    "import matplotlib.pyplot as plt\n",
    "%matplotlib inline\n",
    "import seaborn as sns\n",
    "print(\"Setup Complete\")"
   ]
  },
  {
   "cell_type": "code",
   "execution_count": null,
   "id": "a2d98bce",
   "metadata": {},
   "outputs": [],
   "source": []
  },
  {
   "cell_type": "code",
   "execution_count": null,
   "id": "99cadf3f",
   "metadata": {},
   "outputs": [],
   "source": [
    "transaction-salary\n",
    "Active\n",
    "7 days\n",
    "3\n",
    "transaction-topic\n",
    "Active\n",
    "1 day\n",
    "4"
   ]
  },
  {
   "cell_type": "code",
   "execution_count": null,
   "id": "86cefb34",
   "metadata": {},
   "outputs": [],
   "source": []
  },
  {
   "cell_type": "code",
   "execution_count": null,
   "id": "1998ab1d",
   "metadata": {},
   "outputs": [],
   "source": []
  },
  {
   "cell_type": "code",
   "execution_count": null,
   "id": "deea728f",
   "metadata": {},
   "outputs": [],
   "source": []
  },
  {
   "cell_type": "code",
   "execution_count": null,
   "id": "2d8607db",
   "metadata": {},
   "outputs": [],
   "source": []
  },
  {
   "cell_type": "code",
   "execution_count": null,
   "id": "52b3bd9f",
   "metadata": {},
   "outputs": [],
   "source": []
  }
 ],
 "metadata": {
  "kernelspec": {
   "display_name": "Python 3 (ipykernel)",
   "language": "python",
   "name": "python3"
  },
  "language_info": {
   "codemirror_mode": {
    "name": "ipython",
    "version": 3
   },
   "file_extension": ".py",
   "mimetype": "text/x-python",
   "name": "python",
   "nbconvert_exporter": "python",
   "pygments_lexer": "ipython3",
   "version": "3.10.4"
  },
  "vscode": {
   "interpreter": {
    "hash": "11d839dbd11a2e51fe8864277c77ff8b70e5eb02336a3a464a7578d3dbaa37d1"
   }
  }
 },
 "nbformat": 4,
 "nbformat_minor": 5
}
